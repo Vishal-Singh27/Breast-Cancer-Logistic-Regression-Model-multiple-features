{
 "cells": [
  {
   "metadata": {},
   "cell_type": "markdown",
   "source": [
    "# Breast Cancer Prediction System\n",
    "This is my project where I will make a Logistic Regression model, train it data of sckit breast cancer dataset and then the model could predict if a tumor is manignant or benign.\n",
    "**This is not complete yet**"
   ],
   "id": "fdb8350fa478d02c"
  },
  {
   "metadata": {},
   "cell_type": "markdown",
   "source": "Lets start by importing the Packages we gonna use",
   "id": "729fca1abe0c533"
  },
  {
   "metadata": {
    "ExecuteTime": {
     "end_time": "2025-04-09T20:40:16.767402Z",
     "start_time": "2025-04-09T20:40:16.759231Z"
    }
   },
   "cell_type": "code",
   "source": [
    "import matplotlib.pyplot as plt\n",
    "import numpy as np\n",
    "from sklearn.datasets import load_breast_cancer\n",
    "import pandas as pd"
   ],
   "id": "8f202c3c12236c39",
   "outputs": [],
   "execution_count": 110
  },
  {
   "metadata": {},
   "cell_type": "markdown",
   "source": "Now loading the dataset",
   "id": "c307d84a5f27e6ea"
  },
  {
   "metadata": {
    "ExecuteTime": {
     "end_time": "2025-04-09T20:40:16.782924Z",
     "start_time": "2025-04-09T20:40:16.777334Z"
    }
   },
   "cell_type": "code",
   "source": [
    "\n",
    "df = pd.DataFrame({\n",
    "    \"mean radius\": [12, 15, 46, 60],\n",
    "    \"mean area\": [13, 24, 54, 70],\n",
    "    \"target\": [1, 1, 0, 0]\n",
    "})\n",
    "X = np.column_stack((np.array(df['mean radius']), np.array(df['mean area'])))\n",
    "y = np.array(df.target)\n",
    "\n",
    "# Z-score normalization\n",
    "X_normalized = (X - np.mean(X, axis=0)) / np.std(X, axis=0)\n"
   ],
   "id": "f44656b984e25a63",
   "outputs": [],
   "execution_count": 111
  },
  {
   "metadata": {},
   "cell_type": "markdown",
   "source": "Okay now lets make our logistic regression model",
   "id": "b1d66036601f2b5b"
  },
  {
   "metadata": {
    "ExecuteTime": {
     "end_time": "2025-04-09T20:40:16.794175Z",
     "start_time": "2025-04-09T20:40:16.791953Z"
    }
   },
   "cell_type": "code",
   "source": [
    "def sigmoid(x, w, b):\n",
    "    z = np.dot(x, w) + b\n",
    "    z = np.clip(z, -500, 500)\n",
    "    return 1 / (1 + np.exp(-z))"
   ],
   "id": "661fbf2d2eb904de",
   "outputs": [],
   "execution_count": 112
  },
  {
   "metadata": {},
   "cell_type": "markdown",
   "source": "Now Cost function",
   "id": "5ceea50d32fba0ad"
  },
  {
   "metadata": {
    "ExecuteTime": {
     "end_time": "2025-04-09T20:40:16.802035Z",
     "start_time": "2025-04-09T20:40:16.800242Z"
    }
   },
   "cell_type": "code",
   "source": [
    "def compute_cost(X, y, w, b):\n",
    "    m = X.shape[0]\n",
    "    cost = 0\n",
    "    for i in range(m):\n",
    "        cost += (sigmoid(X[i], w, b) - y[i]) ** 2\n",
    "\n",
    "    return cost / (2 * m)"
   ],
   "id": "5b6107de752ba12e",
   "outputs": [],
   "execution_count": 113
  },
  {
   "metadata": {},
   "cell_type": "markdown",
   "source": "Now lets take care of gradient descent",
   "id": "ac278286bb40e828"
  },
  {
   "metadata": {
    "ExecuteTime": {
     "end_time": "2025-04-09T20:40:16.819809Z",
     "start_time": "2025-04-09T20:40:16.817076Z"
    }
   },
   "cell_type": "code",
   "source": [
    "def gradient_descent(X, y, initial_w, initial_b, alpha, iterations):\n",
    "    # First lets calculate dj_dw and dj_db\n",
    "    m = X.shape[0]\n",
    "    n = X.shape[1]\n",
    "\n",
    "    w, b = initial_w, initial_b\n",
    "\n",
    "    for iteration in range(iterations):\n",
    "        dj_dw = np.zeros(n)\n",
    "        dj_db = 0\n",
    "\n",
    "        for i in range(m):\n",
    "            cost = sigmoid(X[i], w, b) - y[i]\n",
    "\n",
    "            dj_dw += cost * X[i]\n",
    "            dj_db += cost\n",
    "\n",
    "        dj_dw, dj_db = dj_dw / m, dj_db / m\n",
    "\n",
    "        w -= alpha * dj_dw\n",
    "        b -= alpha * dj_db\n",
    "\n",
    "    return w, b"
   ],
   "id": "2b7a6c702814d10",
   "outputs": [],
   "execution_count": 114
  },
  {
   "metadata": {},
   "cell_type": "markdown",
   "source": "Wohooo! Gradient descent is implemented, now lets visualize stuff",
   "id": "ae9cd3899d8e2db6"
  },
  {
   "metadata": {
    "ExecuteTime": {
     "end_time": "2025-04-09T20:40:17.017363Z",
     "start_time": "2025-04-09T20:40:16.826383Z"
    }
   },
   "cell_type": "code",
   "source": [
    "# Training the model\n",
    "w, b = gradient_descent(X_normalized, y, np.zeros(X.shape[1]), 0, 1e-5, 10000)\n",
    "print(w, b)"
   ],
   "id": "5fcdd2ea970a4427",
   "outputs": [
    {
     "name": "stdout",
     "output_type": "stream",
     "text": [
      "[-0.04725747 -0.04650461] -5.980298492745063e-08\n"
     ]
    }
   ],
   "execution_count": 115
  },
  {
   "metadata": {
    "ExecuteTime": {
     "end_time": "2025-04-09T20:40:17.097525Z",
     "start_time": "2025-04-09T20:40:17.093788Z"
    }
   },
   "cell_type": "code",
   "source": [
    "m = X.shape[0]\n",
    "y_hat = np.zeros(m)\n",
    "\n",
    "for i in range(m):\n",
    "    y_hat[i] = sigmoid(X_normalized[i], w, b)\n",
    "y_pred = (y_hat >= 0.5).astype(int)"
   ],
   "id": "d09efc605a798f7b",
   "outputs": [],
   "execution_count": 116
  },
  {
   "metadata": {
    "ExecuteTime": {
     "end_time": "2025-04-09T20:40:17.172155Z",
     "start_time": "2025-04-09T20:40:17.119011Z"
    }
   },
   "cell_type": "code",
   "source": [
    "plt.scatter(X[:, 0], y)\n",
    "plt.plot(X[:, 0], y_pred)\n",
    "print(X[:, 0], y)"
   ],
   "id": "ac5a05d9004f38bb",
   "outputs": [
    {
     "name": "stdout",
     "output_type": "stream",
     "text": [
      "[12 15 46 60] [1 1 0 0]\n"
     ]
    },
    {
     "data": {
      "text/plain": [
       "<Figure size 640x480 with 1 Axes>"
      ],
      "image/png": "[encoded data removed]"
     },
     "metadata": {},
     "output_type": "display_data"
    }
   ],
   "execution_count": 117
  },
  {
   "metadata": {
    "ExecuteTime": {
     "end_time": "2025-04-09T20:40:17.179671Z",
     "start_time": "2025-04-09T20:40:17.178436Z"
    }
   },
   "cell_type": "code",
   "source": "",
   "id": "5439f943b65f4a9e",
   "outputs": [],
   "execution_count": null
  }
 ],
 "metadata": {
  "kernelspec": {
   "display_name": "Python 3",
   "language": "python",
   "name": "python3"
  },
  "language_info": {
   "codemirror_mode": {
    "name": "ipython",
    "version": 2
   },
   "file_extension": ".py",
   "mimetype": "text/x-python",
   "name": "python",
   "nbconvert_exporter": "python",
   "pygments_lexer": "ipython2",
   "version": "2.7.6"
  }
 },
 "nbformat": 4,
 "nbformat_minor": 5
}
